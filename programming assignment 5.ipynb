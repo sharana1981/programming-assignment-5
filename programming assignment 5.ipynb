{
 "cells": [
  {
   "cell_type": "markdown",
   "id": "c079593f",
   "metadata": {},
   "source": [
    "# programming assignment 5"
   ]
  },
  {
   "cell_type": "code",
   "execution_count": null,
   "id": "c60c46d2",
   "metadata": {},
   "outputs": [],
   "source": [
    "1)Write a Python Program to Find LCM?"
   ]
  },
  {
   "cell_type": "code",
   "execution_count": 2,
   "id": "11456eee",
   "metadata": {},
   "outputs": [
    {
     "name": "stdout",
     "output_type": "stream",
     "text": [
      "enter the number5\n",
      "enter the number3\n",
      "15\n"
     ]
    }
   ],
   "source": [
    "a=int(input(\"enter the number\"))\n",
    "b=int(input(\"enter the number\"))\n",
    "if a>b:\n",
    "    greater =a\n",
    "else:\n",
    "    greater=b\n",
    "while True:\n",
    "    if greater % a==0 and greater % b==0:\n",
    "        lcm=greater\n",
    "        break\n",
    "    greater+=1\n",
    "print(greater)"
   ]
  },
  {
   "cell_type": "code",
   "execution_count": null,
   "id": "aec6ef4e",
   "metadata": {},
   "outputs": [],
   "source": [
    "2)Write a Python Program to Find HCF? "
   ]
  },
  {
   "cell_type": "code",
   "execution_count": 5,
   "id": "3f7e6227",
   "metadata": {},
   "outputs": [
    {
     "name": "stdout",
     "output_type": "stream",
     "text": [
      "enter the number60\n",
      "enter the number48\n",
      "12\n"
     ]
    }
   ],
   "source": [
    "a=int(input(\"enter the number\"))\n",
    "b=int(input(\"enter the number\"))\n",
    "if a>b:\n",
    "    smaller =b\n",
    "else:\n",
    "    smaller=a\n",
    "for i in range (1,smaller+1):\n",
    "    if a%i==0 and b%i==0:\n",
    "        hcf=i\n",
    "print(hcf)"
   ]
  },
  {
   "cell_type": "code",
   "execution_count": null,
   "id": "a0064678",
   "metadata": {},
   "outputs": [],
   "source": [
    "3)Write a Python Program to Convert Decimal to Binary, Octal and Hexadecimal?"
   ]
  },
  {
   "cell_type": "code",
   "execution_count": 16,
   "id": "8f204a97",
   "metadata": {},
   "outputs": [
    {
     "name": "stdout",
     "output_type": "stream",
     "text": [
      "enter the decimal number33\n",
      "100001\n",
      "0o41\n",
      "0x21\n"
     ]
    }
   ],
   "source": [
    "n=int(input(\"enter the decimal number\"))\n",
    "print(bin(n).replace(\"0b\",\"\"))\n",
    "print(oct(n))\n",
    "print(hex(n))"
   ]
  },
  {
   "cell_type": "raw",
   "id": "287dff37",
   "metadata": {},
   "source": [
    "4)Write a Python Program To Find ASCII value of a character?"
   ]
  },
  {
   "cell_type": "code",
   "execution_count": 17,
   "id": "43d9d655",
   "metadata": {},
   "outputs": [
    {
     "name": "stdout",
     "output_type": "stream",
     "text": [
      "enter the character you want to converta\n",
      "97\n"
     ]
    }
   ],
   "source": [
    "s=input(\"enter the character you want to convert\")\n",
    "print(ord(s))"
   ]
  },
  {
   "cell_type": "code",
   "execution_count": null,
   "id": "8711daa7",
   "metadata": {},
   "outputs": [],
   "source": [
    "5)Write a Python Program to Make a Simple Calculator with 4 basic mathematical operations?"
   ]
  },
  {
   "cell_type": "code",
   "execution_count": 24,
   "id": "cdb9430a",
   "metadata": {},
   "outputs": [
    {
     "name": "stdout",
     "output_type": "stream",
     "text": [
      "press 1 for addition\n",
      "         press 2 for subtraction\n",
      "         press 3 for multiplication\n",
      "         press 4 for division\n",
      "enter your option4\n",
      "enter the first value4\n",
      "enter the second value2\n",
      "2.0\n"
     ]
    }
   ],
   "source": [
    "print('''press 1 for addition\n",
    "         press 2 for subtraction\n",
    "         press 3 for multiplication\n",
    "         press 4 for division''')\n",
    "def add():\n",
    "        a=int(input(\"enter the first value\"))\n",
    "        b=int(input(\"enter the second value\"))\n",
    "        return a+b\n",
    "def sub():\n",
    "        a=int(input(\"enter the first value\"))\n",
    "        b=int(input(\"enter the second value\"))\n",
    "        return a-b\n",
    "def mul():\n",
    "        a=int(input(\"enter the first value\"))\n",
    "        b=int(input(\"enter the second value\"))\n",
    "        return a*b\n",
    "def div():\n",
    "        a=int(input(\"enter the first value\"))\n",
    "        b=int(input(\"enter the second value\"))\n",
    "        return a/b\n",
    "n=int(input(\"enter your option\"))\n",
    "while True:\n",
    "    if n<1 or n>4:\n",
    "        n=int(input(\"enter correct option\"))\n",
    "    else:\n",
    "        break\n",
    "if n==1:\n",
    "    print(add())\n",
    "elif n==2:\n",
    "    print(sub())\n",
    "elif n==3:\n",
    "    print(mul())\n",
    "elif n==4:\n",
    "    print(div())\n",
    "    \n",
    "    "
   ]
  },
  {
   "cell_type": "code",
   "execution_count": null,
   "id": "a1fe715d",
   "metadata": {},
   "outputs": [],
   "source": []
  }
 ],
 "metadata": {
  "kernelspec": {
   "display_name": "Python 3 (ipykernel)",
   "language": "python",
   "name": "python3"
  },
  "language_info": {
   "codemirror_mode": {
    "name": "ipython",
    "version": 3
   },
   "file_extension": ".py",
   "mimetype": "text/x-python",
   "name": "python",
   "nbconvert_exporter": "python",
   "pygments_lexer": "ipython3",
   "version": "3.9.12"
  }
 },
 "nbformat": 4,
 "nbformat_minor": 5
}
